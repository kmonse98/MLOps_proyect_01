{
 "cells": [
  {
   "attachments": {},
   "cell_type": "markdown",
   "metadata": {},
   "source": [
    "### Testeo de las funciones que realizaran las consultas en nuestra api"
   ]
  },
  {
   "cell_type": "code",
   "execution_count": 6,
   "metadata": {},
   "outputs": [],
   "source": [
    "import pandas as pd\n",
    "import numpy as np "
   ]
  },
  {
   "cell_type": "code",
   "execution_count": 7,
   "metadata": {},
   "outputs": [
    {
     "data": {
      "text/html": [
       "<div>\n",
       "<style scoped>\n",
       "    .dataframe tbody tr th:only-of-type {\n",
       "        vertical-align: middle;\n",
       "    }\n",
       "\n",
       "    .dataframe tbody tr th {\n",
       "        vertical-align: top;\n",
       "    }\n",
       "\n",
       "    .dataframe thead th {\n",
       "        text-align: right;\n",
       "    }\n",
       "</style>\n",
       "<table border=\"1\" class=\"dataframe\">\n",
       "  <thead>\n",
       "    <tr style=\"text-align: right;\">\n",
       "      <th></th>\n",
       "      <th>id</th>\n",
       "      <th>title</th>\n",
       "      <th>director</th>\n",
       "      <th>cast</th>\n",
       "      <th>description</th>\n",
       "      <th>duration_int</th>\n",
       "      <th>duration_type</th>\n",
       "      <th>country</th>\n",
       "      <th>release_year</th>\n",
       "      <th>platform</th>\n",
       "      <th>type</th>\n",
       "      <th>listed_in</th>\n",
       "      <th>rating</th>\n",
       "      <th>score(average)</th>\n",
       "      <th>date_added</th>\n",
       "      <th>country_main</th>\n",
       "      <th>score*1000</th>\n",
       "    </tr>\n",
       "  </thead>\n",
       "  <tbody>\n",
       "    <tr>\n",
       "      <th>0</th>\n",
       "      <td>as1</td>\n",
       "      <td>the grand seduction</td>\n",
       "      <td>don mckellar</td>\n",
       "      <td>brendan gleeson, taylor kitsch, gordon pinsent</td>\n",
       "      <td>a small fishing village must procure a local d...</td>\n",
       "      <td>113</td>\n",
       "      <td>min</td>\n",
       "      <td>canada</td>\n",
       "      <td>2014</td>\n",
       "      <td>amazon</td>\n",
       "      <td>movie</td>\n",
       "      <td>comedy, drama</td>\n",
       "      <td>G</td>\n",
       "      <td>3.467131</td>\n",
       "      <td>2021-03-30 00:00:00</td>\n",
       "      <td>canada</td>\n",
       "      <td>34671.0</td>\n",
       "    </tr>\n",
       "  </tbody>\n",
       "</table>\n",
       "</div>"
      ],
      "text/plain": [
       "    id                title      director  \\\n",
       "0  as1  the grand seduction  don mckellar   \n",
       "\n",
       "                                             cast  \\\n",
       "0  brendan gleeson, taylor kitsch, gordon pinsent   \n",
       "\n",
       "                                         description  duration_int  \\\n",
       "0  a small fishing village must procure a local d...           113   \n",
       "\n",
       "  duration_type country  release_year platform   type      listed_in rating  \\\n",
       "0           min  canada          2014   amazon  movie  comedy, drama      G   \n",
       "\n",
       "   score(average)           date_added country_main  score*1000  \n",
       "0        3.467131  2021-03-30 00:00:00       canada     34671.0  "
      ]
     },
     "execution_count": 7,
     "metadata": {},
     "output_type": "execute_result"
    }
   ],
   "source": [
    "movie_df = pd.read_csv('streaming_set.csv')\n",
    "movie_df.head(1)"
   ]
  },
  {
   "cell_type": "code",
   "execution_count": 16,
   "metadata": {},
   "outputs": [
    {
     "data": {
      "text/plain": [
       "array(['G', '13+', 'all', '18+', 'r', 'tv-y', 'tv-y7', 'nr', '16+',\n",
       "       'tv-pg', '7+', 'tv-14', 'tv-nr', 'tv-g', 'pg-13', 'tv-ma', 'g',\n",
       "       'pg', 'nc-17', 'unrated', '16', 'ages_16_', 'ages_18_', 'all_ages',\n",
       "       'not_rate', 'tv-y7-fv', 'not rated', '2 seasons', '93 min',\n",
       "       '4 seasons', '136 min', '91 min', '85 min', '98 min', '89 min',\n",
       "       '94 min', '86 min', '3 seasons', '121 min', '88 min', '101 min',\n",
       "       '1 season', '83 min', '100 min', '95 min', '92 min', '96 min',\n",
       "       '109 min', '99 min', '75 min', '87 min', '67 min', '104 min',\n",
       "       '107 min', '84 min', '103 min', '105 min', '119 min', '114 min',\n",
       "       '82 min', '90 min', '130 min', '110 min', '80 min', '6 seasons',\n",
       "       '97 min', '111 min', '81 min', '49 min', '45 min', '41 min',\n",
       "       '73 min', '40 min', '36 min', '39 min', '34 min', '47 min',\n",
       "       '65 min', '37 min', '78 min', '102 min', '129 min', '115 min',\n",
       "       '112 min', '61 min', '106 min', '76 min', '77 min', '79 min',\n",
       "       '157 min', '28 min', '64 min', '7 min', '5 min', '6 min',\n",
       "       '127 min', '142 min', '108 min', '57 min', '118 min', '116 min',\n",
       "       '12 seasons', '71 min', '74 min', '66 min', 'ur'], dtype=object)"
      ]
     },
     "execution_count": 16,
     "metadata": {},
     "output_type": "execute_result"
    }
   ],
   "source": [
    "movie_df['rating'].unique()"
   ]
  },
  {
   "attachments": {},
   "cell_type": "markdown",
   "metadata": {},
   "source": [
    "Película (sólo película, no serie, etc) con mayor duración según año, plataforma y tipo de duración. La función debe llamarse get_max_duration(year, platform, duration_type) y debe devolver sólo el string del nombre de la película"
   ]
  },
  {
   "cell_type": "code",
   "execution_count": 3,
   "metadata": {},
   "outputs": [],
   "source": [
    "def get_max_duration(anio:int,plataforma:str,min_o_season:str):\n",
    "    #colocamos dentro de una variable llamada result, el resultado de buscar un año y la plataforma\n",
    "    movie_df_filtrado = movie_df[movie_df['type'] == 'movie']\n",
    "    movie_df_filtrado = movie_df[(movie_df['release_year']==anio) & (movie_df['platform']==plataforma)]\n",
    "    #ahora dentro del if, la función toma en cuenta si se ingresa como parámetro la palabra \"min\" o \"seasons\", para ver si se quiere buscar una serie o una película\n",
    "    if min_o_season == 'min':\n",
    "    #dentro de a se va guardando en resultado maximo de la columna correspondiente a min, lo cual va llenando una lista para luego devolver la de mayor duración en esa plataforma y en ese año\n",
    "        a = movie_df_filtrado['duration_int'].max()\n",
    "        name = movie_df_filtrado[movie_df_filtrado['duration_int']==a] ['title']\n",
    "        name = name.to_list()\n",
    "        name = name[0]\n",
    "    else:\n",
    "        a = movie_df_filtrado['season'].max()\n",
    "        #dentro de a se va guardando en resultado maximo de la columna correspondiente a seasons, lo cual va llenando una lista para luego devolver la de mayor duración en esa plataforma y en ese año\n",
    "        name = movie_df_filtrado[movie_df_filtrado['season']==a] ['title']\n",
    "        name = name.to_list()\n",
    "        name = name[0]\n",
    "    return name"
   ]
  },
  {
   "cell_type": "code",
   "execution_count": 4,
   "metadata": {},
   "outputs": [
    {
     "data": {
      "text/plain": [
       "'soothing surf at del norte for sleep black screen'"
      ]
     },
     "execution_count": 4,
     "metadata": {},
     "output_type": "execute_result"
    }
   ],
   "source": [
    "get_max_duration(2018,'amazon','min')"
   ]
  },
  {
   "attachments": {},
   "cell_type": "markdown",
   "metadata": {},
   "source": [
    "Cantidad de películas (sólo películas, no series, etc) según plataforma, con un puntaje mayor a XX en determinado año. La función debe llamarse get_score_count(platform, scored, year) y debe devolver un int, con el total de películas que cumplen lo solicitado"
   ]
  },
  {
   "cell_type": "code",
   "execution_count": 27,
   "metadata": {},
   "outputs": [],
   "source": [
    "def get_score_count(platform:str, score:float, year:int):\n",
    "    # Filtramos el data frame 'movie_df' por plataforma y año\n",
    "    movie_df_filtro = movie_df[movie_df['type'] == 'movie']\n",
    "    movie_df_filtro = movie_df_filtro[(movie_df_filtro['release_year']==year) & (movie_df_filtro['platform']==platform)]\n",
    "    # Filtramos por score y asignamos la cantidad de peliculas a la variable 'cantidad'\n",
    "    cantidad = movie_df_filtro[(movie_df_filtro['score(average)'] > score)].shape[0]\n",
    "    \n",
    "    return cantidad\n",
    "    "
   ]
  },
  {
   "cell_type": "code",
   "execution_count": 28,
   "metadata": {},
   "outputs": [
    {
     "data": {
      "text/plain": [
       "27"
      ]
     },
     "execution_count": 28,
     "metadata": {},
     "output_type": "execute_result"
    }
   ],
   "source": [
    "get_score_count('netflix',3.5,2000)"
   ]
  },
  {
   "attachments": {},
   "cell_type": "markdown",
   "metadata": {},
   "source": [
    "Cantidad de películas (sólo películas, no series, etc) según plataforma. La función debe llamarse get_count_platform(platform) y debe devolver un int, con el número total de películas de esa plataforma. Las plataformas deben llamarse amazon, netflix, hulu, disney."
   ]
  },
  {
   "cell_type": "code",
   "execution_count": 29,
   "metadata": {},
   "outputs": [],
   "source": [
    "def get_count_platform(platform:str):\n",
    "    movie_df_filtro = movie_df[movie_df['type'] == 'movie']\n",
    "    cantidad_pelis = movie_df_filtro[movie_df_filtro['platform'] == platform].shape[0]\n",
    "\n",
    "    return cantidad_pelis\n"
   ]
  },
  {
   "cell_type": "code",
   "execution_count": 30,
   "metadata": {},
   "outputs": [
    {
     "data": {
      "text/plain": [
       "7814"
      ]
     },
     "execution_count": 30,
     "metadata": {},
     "output_type": "execute_result"
    }
   ],
   "source": [
    "get_count_platform('amazon')"
   ]
  },
  {
   "attachments": {},
   "cell_type": "markdown",
   "metadata": {},
   "source": [
    "Actor que más se repite según plataforma y año. La función debe llamarse get_actor(platform, year) y debe devolver sólo el string con el nombre del actor que más se repite según la plataforma y el año dado."
   ]
  },
  {
   "cell_type": "code",
   "execution_count": 31,
   "metadata": {},
   "outputs": [],
   "source": [
    "def get_actor(platform:str, year:int):\n",
    "    movie_df_filtro = movie_df[(movie_df['release_year']==year) & (movie_df['platform']==platform)]\n",
    "    \n",
    "    l = movie_df_filtro.shape[0] \n",
    "\n",
    "    lista_cast = []\n",
    "    for i in range(0,l):\n",
    "        lista = movie_df_filtro['cast'].iloc[i].split(',')\n",
    "        for elemento in lista:\n",
    "            lista_cast.append(elemento)\n",
    "\n",
    "    actor = max(lista_cast, key=lista_cast.count) \n",
    "\n",
    "    return actor\n"
   ]
  },
  {
   "cell_type": "code",
   "execution_count": 33,
   "metadata": {},
   "outputs": [
    {
     "data": {
      "text/plain": [
       "' donald sutherland'"
      ]
     },
     "execution_count": 33,
     "metadata": {},
     "output_type": "execute_result"
    }
   ],
   "source": [
    "get_actor('netflix',2000)"
   ]
  },
  {
   "attachments": {},
   "cell_type": "markdown",
   "metadata": {},
   "source": [
    "La cantidad de contenidos/productos (todo lo disponible en streaming) que se publicó por país y año. La función debe llamarse prod_per_county(tipo,pais,anio) deberia devolver la cantidada de contenidos/productos segun el tipo de contenido (pelicula,serie) por pais y año en un diccionario con las variables llamadas 'pais' (nombre del pais), 'anio' (año), 'pelicula' (cantidad de contenidos/productos)."
   ]
  },
  {
   "cell_type": "code",
   "execution_count": 11,
   "metadata": {},
   "outputs": [],
   "source": [
    "def prod_per_country(tipo:str, pais:str, anio:int):\n",
    "    movie_df_tipo = movie_df[movie_df['type'] == tipo]\n",
    "    movie_df_tipo = movie_df_tipo[(movie_df_tipo['release_year'] == anio) & (movie_df_tipo['country'] == pais)]\n",
    "    \n",
    "    cantidad = movie_df_tipo.shape[0]\n",
    "    dic = {'pais':pais, 'tipo': tipo, 'cantidad': cantidad}\n",
    "    return dic"
   ]
  },
  {
   "cell_type": "code",
   "execution_count": 15,
   "metadata": {},
   "outputs": [
    {
     "data": {
      "text/plain": [
       "{'pais': 'canada', 'tipo': 'movie', 'cantidad': 4}"
      ]
     },
     "execution_count": 15,
     "metadata": {},
     "output_type": "execute_result"
    }
   ],
   "source": [
    "prod_per_country('movie','canada',2010)"
   ]
  },
  {
   "attachments": {},
   "cell_type": "markdown",
   "metadata": {},
   "source": [
    "La cantidad total de contenidos/productos (todo lo disponible en streaming, series, peliculas, etc) según el rating de audiencia dado (para que publico fue clasificada la pelicula). La función debe llamarse get_contents(rating) y debe devolver el numero total de contenido con ese rating de audiencias."
   ]
  },
  {
   "cell_type": "code",
   "execution_count": 17,
   "metadata": {},
   "outputs": [],
   "source": [
    "def get_contents(rating:str):\n",
    "    total = movie_df[movie_df['rating'] == rating].shape[0]\n",
    "   \n",
    "    return total"
   ]
  },
  {
   "cell_type": "code",
   "execution_count": 19,
   "metadata": {},
   "outputs": [
    {
     "data": {
      "text/plain": [
       "1"
      ]
     },
     "execution_count": 19,
     "metadata": {},
     "output_type": "execute_result"
    }
   ],
   "source": [
    "get_contents('16')"
   ]
  }
 ],
 "metadata": {
  "kernelspec": {
   "display_name": "Python 3",
   "language": "python",
   "name": "python3"
  },
  "language_info": {
   "codemirror_mode": {
    "name": "ipython",
    "version": 3
   },
   "file_extension": ".py",
   "mimetype": "text/x-python",
   "name": "python",
   "nbconvert_exporter": "python",
   "pygments_lexer": "ipython3",
   "version": "3.10.4"
  },
  "orig_nbformat": 4
 },
 "nbformat": 4,
 "nbformat_minor": 2
}
